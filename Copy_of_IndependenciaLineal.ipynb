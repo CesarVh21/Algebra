{
  "cells": [
    {
      "cell_type": "markdown",
      "metadata": {
        "id": "view-in-github",
        "colab_type": "text"
      },
      "source": [
        "<a href=\"https://colab.research.google.com/github/CesarVh21/Algebra/blob/main/Copy_of_IndependenciaLineal.ipynb\" target=\"_parent\"><img src=\"https://colab.research.google.com/assets/colab-badge.svg\" alt=\"Open In Colab\"/></a>"
      ]
    },
    {
      "cell_type": "markdown",
      "source": [
        "Matrices"
      ],
      "metadata": {
        "id": "OE5Y8wtlOFmu"
      },
      "id": "OE5Y8wtlOFmu"
    },
    {
      "cell_type": "code",
      "source": [
        "# Matrices\n",
        "\n",
        "## Nula\n",
        "## Matriz cuyos elementos son cero\n",
        "\n",
        "\\begin{bmatrix}\n",
        "0 & 0\\\\\n",
        "0 & 0\n",
        "\\end{bmatrix}\n",
        "\n",
        "## Identidad\n",
        "\n",
        "Si $a_{ij}$ = 0 , $\\forall_{ij} \\neq j \\ \\land $ $a_{ij}$ = 1 , $\\forall_{ij} = j$\n",
        "\n",
        "## Entonces A se llama I\n",
        "\n",
        "Ej:\n",
        "\n",
        "\\begin{bmatrix}\n",
        "1 & 0 & 0\\\\\n",
        "0 & 1 & 0\\\\\n",
        "0 & 0 & 1\n",
        "\\end{bmatrix}\n",
        "\n",
        "## Matriz Diagonal\n",
        "\n",
        "$a_{ij}$ = 0 , $\\forall_{i} \\neq j$\n",
        "\\begin{bmatrix}\n",
        "0 & 0 & 0\\\\\n",
        "0 & 2 & 0\\\\\n",
        "0 & 0 & 1\n",
        "\\end{bmatrix}\n",
        "\n",
        "## Matriz Triangulo Superior\n",
        "\n",
        "Si $a_{ij} = 0, \\forall_{i} > j $\n",
        "\n",
        "Ej:\n",
        "\n",
        "\\begin{bmatrix}\n",
        "1 & 3 & 2\\\\\n",
        "0 & 2 & 4\\\\\n",
        "0 & 0 & 1\\\\\n",
        "\\end{bmatrix}\n",
        "\n",
        "## Matriz Triangulo Inferior\n",
        "\n",
        "Si $a_{ij} = 0, \\forall_{i} < j$\n",
        "\n",
        "\\begin{bmatrix}\n",
        "1 & 0 & 0\\\\\n",
        "5 & 7 & 0\\\\\n",
        "7 & 6 & 2\n",
        "\\end{bmatrix}\n",
        "\n",
        "## Matriz Simétrica\n",
        "\n",
        " ## Si $A = A^T$ entonces $A$ se llama simétrica\n",
        "\n",
        "Ej:\n",
        "$A=$\n",
        "$\\begin{bmatrix}\n",
        "1 & 2\\\\\n",
        "2 & 7\n",
        "\\end{bmatrix}$\n",
        "\n",
        "\n",
        "$A^T=$\n",
        "$\\begin{bmatrix}\n",
        "1 & 2\\\\\n",
        "2 & 7\n",
        "\\end {bmatrix}$"
      ],
      "metadata": {
        "id": "eOU0FhHxOXY8",
        "outputId": "4d2f1a38-d5e4-480b-a560-0c2fdfaab4e0",
        "colab": {
          "base_uri": "https://localhost:8080/",
          "height": 130
        }
      },
      "id": "eOU0FhHxOXY8",
      "execution_count": null,
      "outputs": [
        {
          "output_type": "error",
          "ename": "SyntaxError",
          "evalue": "ignored",
          "traceback": [
            "\u001b[0;36m  File \u001b[0;32m\"<ipython-input-4-953af54625f6>\"\u001b[0;36m, line \u001b[0;32m6\u001b[0m\n\u001b[0;31m    \\begin{bmatrix}\u001b[0m\n\u001b[0m     ^\u001b[0m\n\u001b[0;31mSyntaxError\u001b[0m\u001b[0;31m:\u001b[0m unexpected character after line continuation character\n"
          ]
        }
      ]
    },
    {
      "cell_type": "markdown",
      "source": [
        "Ortogonalizacion y Ortonormalizacion "
      ],
      "metadata": {
        "id": "JJzSAQmvPG3x"
      },
      "id": "JJzSAQmvPG3x"
    },
    {
      "cell_type": "code",
      "source": [
        "# Ortogonalización y Ortonormalización\n",
        "\n",
        "## Proceso de Gram-Schmidt\n",
        "\n",
        "--Explicación--\n",
        "\n",
        "# Ejercicios\n",
        "a) Determine si los siguientes conjuntos de vectores en $R^n$ es ortogonal, si es ortogonal determine si es también ortonormal y determine si es base para $R^n$\n",
        "\n",
        "$1) v_1 = \\{(2,-4),(2,1)\\}$\n",
        "\n",
        "$2) v_2 = \\{(3,2),(-4,-6)\\}$\n",
        "\n",
        "$3) v_3 = \\{(4,-1,1),(-1,0,4),(-4,-17,-1)\\}$\n",
        "\n",
        "b)En los siguientes ejercicios use el proceso de $\\textbf{Gram-Schmidt}$ para transformar la base dada para $R^n$ en una base ortonormal.\n",
        "\n",
        "$1) v_1 = \\{(3,4),(1,0)\\}$\n",
        "\n",
        "$2) v_2 = \\{(0,1),(-4,-8)\\}$\n",
        "\n",
        "$3) v_3 = \\{(1,-2,-2),(-2,2,1),(2,-1,2)\\}$"
      ],
      "metadata": {
        "id": "u1zS_AubO-Az"
      },
      "id": "u1zS_AubO-Az",
      "execution_count": null,
      "outputs": []
    },
    {
      "cell_type": "markdown",
      "id": "84a04f1a-cbf7-4e42-9e15-19f303d44654",
      "metadata": {
        "id": "84a04f1a-cbf7-4e42-9e15-19f303d44654"
      },
      "source": [
        "# Independencia Lineal "
      ]
    },
    {
      "cell_type": "markdown",
      "id": "fec2a5d8-3b2b-48be-9181-dd8a70aff7ca",
      "metadata": {
        "id": "fec2a5d8-3b2b-48be-9181-dd8a70aff7ca"
      },
      "source": [
        "## Definición\n",
        "Sea $S = \\{\\textbf{v}_1, \\textbf{v}_2, ...., \\textbf{v}_n \\}$ un conjunto no vacío de vectores. \n",
        "\n",
        "a) Suponga que:\n",
        "\n",
        "$ \\alpha_1 \\textbf{v}_1 + \\alpha_2 \\textbf{v}_2+......+\\alpha_2 \\textbf{v}_n  = \\textbf{0}$ \n",
        "\n",
        "implica que $ \\alpha_1 = \\alpha_2 = ....=\\alpha_n$. Se dice entonces que $\\textbf{S}$ es ***linealmente independiente***\n",
        "\n",
        "b) Un conjunto que no es linealmente independiente se llama ***linealmente dependiente***; análogamente,  $\\textbf{S}$ es linealmente dependiente si y solo si hay escalares $ \\alpha_1 = \\alpha_2 = ....=\\alpha_n$ **NO** todos cero, tales que\n",
        "\n",
        "$ \\alpha_1 \\textbf{v}_1 + \\alpha_2 \\textbf{v}_2+......+\\alpha_2 \\textbf{v}_n  = \\textbf{0}$ "
      ]
    },
    {
      "cell_type": "markdown",
      "id": "55aa3498-cf44-4f50-84fe-4fa3c2167083",
      "metadata": {
        "id": "55aa3498-cf44-4f50-84fe-4fa3c2167083"
      },
      "source": [
        "## Python Code\n",
        "```python \n",
        "#Importamos la libreria numpy\n",
        "import numpy as np\n",
        "\n",
        "# Los vectores linealmente independientes (En este ejemplo, tenemos 3 vectores en un espacio 3-dimensional)\n",
        "v1 = np.array([1, 2, 2])\n",
        "v2 = np.array([4, 5, 6])\n",
        "v3 = np.array([7, 8, 9])\n",
        "\n",
        "# El vector que queremos expresar como una combinación lineal de vectores independientes ((0,0,0))\n",
        "target = np.array([0, 0, 0])\n",
        "\n",
        "#Creamos una matriz con los vectores independientes como columnas\n",
        "matrix = np.column_stack((v1, v2, v3))\n",
        "\n",
        "#Resolvemos el sistema lineal para encontrar los coeficientes\n",
        "coefficients = np.linalg.solve(matrix, target)\n",
        "\n",
        "print(\"Coefficients:\", coefficients)\n",
        "```\n"
      ]
    },
    {
      "cell_type": "code",
      "execution_count": null,
      "id": "26a2ae85-9ec6-4f8e-9c12-9048b2b10a4d",
      "metadata": {
        "id": "26a2ae85-9ec6-4f8e-9c12-9048b2b10a4d",
        "outputId": "01680a98-38f1-4954-9d95-d8af516d8bf7"
      },
      "outputs": [
        {
          "name": "stdout",
          "output_type": "stream",
          "text": [
            "Coefficients: [ 0.  0. -0.]\n"
          ]
        }
      ],
      "source": [
        "#Importamos la libreria numpy\n",
        "import numpy as np\n",
        "\n",
        "# Los vectores linealmente independientes (En este ejemplo, tenemos 3 vectores en un espacio 3-dimensional)\n",
        "v1 = np.array([1, 2, 2])\n",
        "v2 = np.array([4, 5, 6])\n",
        "v3 = np.array([7, 8, 9])\n",
        "\n",
        "# El vector que queremos expresar como una combinación lineal de vectores independientes ((0,0,0))\n",
        "target = np.array([0, 0, 0])\n",
        "\n",
        "#Creamos una matriz con los vectores independientes como columnas\n",
        "matrix = np.column_stack((v1, v2, v3))\n",
        "\n",
        "#Resolvemos el sistema lineal para encontrar los coeficientes\n",
        "coefficients = np.linalg.solve(matrix, target)\n",
        "\n",
        "print(\"Coefficients:\", coefficients)\n",
        "\n"
      ]
    },
    {
      "cell_type": "markdown",
      "id": "3d0d6bba-5723-4d5d-be9b-68d5e5a49e51",
      "metadata": {
        "id": "3d0d6bba-5723-4d5d-be9b-68d5e5a49e51"
      },
      "source": [
        "## Ejercicios"
      ]
    },
    {
      "cell_type": "code",
      "execution_count": null,
      "id": "ada9f0b2-421b-4b5d-a145-befccd73af96",
      "metadata": {
        "id": "ada9f0b2-421b-4b5d-a145-befccd73af96"
      },
      "outputs": [],
      "source": []
    }
  ],
  "metadata": {
    "kernelspec": {
      "display_name": "Python 3 (ipykernel)",
      "language": "python",
      "name": "python3"
    },
    "language_info": {
      "codemirror_mode": {
        "name": "ipython",
        "version": 3
      },
      "file_extension": ".py",
      "mimetype": "text/x-python",
      "name": "python",
      "nbconvert_exporter": "python",
      "pygments_lexer": "ipython3",
      "version": "3.9.15"
    },
    "colab": {
      "provenance": [],
      "include_colab_link": true
    }
  },
  "nbformat": 4,
  "nbformat_minor": 5
}